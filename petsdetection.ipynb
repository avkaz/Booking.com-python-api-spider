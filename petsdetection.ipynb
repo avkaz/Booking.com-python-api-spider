{
  "nbformat": 4,
  "nbformat_minor": 0,
  "metadata": {
    "colab": {
      "provenance": [],
      "toc_visible": true,
      "authorship_tag": "ABX9TyNBB8hT2W+jrPsitbzyZsGR",
      "include_colab_link": true
    },
    "kernelspec": {
      "name": "python3",
      "display_name": "Python 3"
    },
    "language_info": {
      "name": "python"
    }
  },
  "cells": [
    {
      "cell_type": "markdown",
      "metadata": {
        "id": "view-in-github",
        "colab_type": "text"
      },
      "source": [
        "<a href=\"https://colab.research.google.com/github/avkaz/Booking.com-python-api-spider/blob/main/petsdetection.ipynb\" target=\"_parent\"><img src=\"https://colab.research.google.com/assets/colab-badge.svg\" alt=\"Open In Colab\"/></a>"
      ]
    },
    {
      "cell_type": "code",
      "source": [
        "import tensorflow as tf\n",
        "import numpy as np\n",
        "import cv2\n",
        "from tensorflow.keras.applications import EfficientNetB0\n",
        "from tensorflow.keras.applications.efficientnet import preprocess_input"
      ],
      "metadata": {
        "id": "pI8cfZmMpqhd"
      },
      "execution_count": null,
      "outputs": []
    },
    {
      "cell_type": "markdown",
      "source": [
        "Load the pre-trained EfficientNetB0 model"
      ],
      "metadata": {
        "id": "jZ1amhmWpkEu"
      }
    },
    {
      "cell_type": "code",
      "source": [
        "model = EfficientNetB0(weights='imagenet', include_top=False, pooling='avg')"
      ],
      "metadata": {
        "id": "xyUBvQM6pmba"
      },
      "execution_count": null,
      "outputs": []
    },
    {
      "cell_type": "code",
      "source": [
        "ls -alt"
      ],
      "metadata": {
        "colab": {
          "base_uri": "https://localhost:8080/"
        },
        "id": "edGAVN5kqslD",
        "outputId": "35331b3b-c8bb-45a2-c89b-142404097dbc"
      },
      "execution_count": null,
      "outputs": [
        {
          "output_type": "stream",
          "name": "stdout",
          "text": [
            "total 16\n",
            "drwxr-xr-x 1 root root 4096 Dec 21 20:41 \u001b[0m\u001b[01;34m..\u001b[0m/\n",
            "drwxr-xr-x 1 root root 4096 Dec 19 14:20 \u001b[01;34msample_data\u001b[0m/\n",
            "drwxr-xr-x 1 root root 4096 Dec 19 14:20 \u001b[01;34m.\u001b[0m/\n",
            "drwxr-xr-x 4 root root 4096 Dec 19 14:20 \u001b[01;34m.config\u001b[0m/\n"
          ]
        }
      ]
    },
    {
      "cell_type": "code",
      "source": [
        "import firebase_admin\n",
        "from firebase_admin import credentials, storage\n",
        "import json\n",
        "from google.colab import userdata\n",
        "\n",
        "# Retrieve the Firebase key stored in Google Colab's userdata\n",
        "firebase_key = userdata.get('firebase')\n",
        "\n",
        "# Ensure firebase_key is retrieved correctly\n",
        "if not firebase_key:\n",
        "    raise ValueError(\"Firebase key not found in Colab userdata!\")\n",
        "\n",
        "# Convert the JSON string to a dictionary\n",
        "firebase_key_dict = json.loads(firebase_key)\n",
        "\n",
        "# Initialize Firebase Admin SDK using the dictionary\n",
        "cred = credentials.Certificate(firebase_key_dict)\n",
        "firebase_admin.initialize_app(cred, {'storageBucket': 'codereview-22c86.appspot.com'})\n",
        "\n",
        "# Access the storage bucket\n",
        "bucket = storage.bucket()"
      ],
      "metadata": {
        "id": "ii-4HyUVzJ_T"
      },
      "execution_count": null,
      "outputs": []
    },
    {
      "cell_type": "code",
      "source": [
        "folder_name = \"AceVentura/\"\n",
        "blobs = bucket.list_blobs(prefix=folder_name)\n",
        "for blob in blobs:\n",
        "    print(blob.name)"
      ],
      "metadata": {
        "colab": {
          "base_uri": "https://localhost:8080/"
        },
        "id": "_ozQ3A_-76My",
        "outputId": "24f5e692-a879-4350-9212-1c905f2cc0b9"
      },
      "execution_count": null,
      "outputs": [
        {
          "output_type": "stream",
          "name": "stdout",
          "text": [
            "AceVentura/\n",
            "AceVentura/cRwNYCSSmGVb9YyOpFQ3UClwiQT9qrbL61eJuxn0Lv9wT0jkj1xRmvd8j90XsFgTKptQhKyXiy8yPMvs9SSQiRAqrwZCuagAwQT8JPV2UjZP468ArDxhIJ7U0GA4y233.jpeg\n",
            "AceVentura/dlyaWPh85yhuryjt4S5e3fsQgvaNDi73HYhDv91HYt0iwTLOa2epVM0AqbCI5VJkvY8BXmsnjEuYEfywJYVUEn0ISbXk4DKz14Gum0iVhvhqDnvhvWsjD3Ts46VP9JzZ.jpeg\n"
          ]
        }
      ]
    }
  ]
}